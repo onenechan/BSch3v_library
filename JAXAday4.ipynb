{
  "nbformat": 4,
  "nbformat_minor": 0,
  "metadata": {
    "colab": {
      "name": "JAXAday4.ipynb",
      "provenance": [],
      "collapsed_sections": [],
      "mount_file_id": "1_aOXDaDysDSTaoZCSIXCbDPgfU77xhDW",
      "authorship_tag": "ABX9TyNZD+Bs2k1YH8Z5QFbCp0Sq",
      "include_colab_link": true
    },
    "kernelspec": {
      "name": "python3",
      "display_name": "Python 3"
    },
    "language_info": {
      "name": "python"
    }
  },
  "cells": [
    {
      "cell_type": "markdown",
      "metadata": {
        "id": "view-in-github",
        "colab_type": "text"
      },
      "source": [
        "<a href=\"https://colab.research.google.com/github/onenechan/BSch3v_library/blob/master/JAXAday4.ipynb\" target=\"_parent\"><img src=\"https://colab.research.google.com/assets/colab-badge.svg\" alt=\"Open In Colab\"/></a>"
      ]
    },
    {
      "cell_type": "code",
      "source": [
        "pip install healpy"
      ],
      "metadata": {
        "colab": {
          "base_uri": "https://localhost:8080/"
        },
        "id": "iZvyNwDtGDMd",
        "outputId": "d146396b-e460-4f8f-e690-649dfc8f115d"
      },
      "execution_count": 36,
      "outputs": [
        {
          "output_type": "stream",
          "name": "stdout",
          "text": [
            "Requirement already satisfied: healpy in /usr/local/lib/python3.7/dist-packages (1.15.0)\n",
            "Requirement already satisfied: numpy>=1.13 in /usr/local/lib/python3.7/dist-packages (from healpy) (1.19.5)\n",
            "Requirement already satisfied: matplotlib in /usr/local/lib/python3.7/dist-packages (from healpy) (3.2.2)\n",
            "Requirement already satisfied: scipy in /usr/local/lib/python3.7/dist-packages (from healpy) (1.4.1)\n",
            "Requirement already satisfied: astropy in /usr/local/lib/python3.7/dist-packages (from healpy) (4.3.1)\n",
            "Requirement already satisfied: importlib-metadata in /usr/local/lib/python3.7/dist-packages (from astropy->healpy) (4.8.2)\n",
            "Requirement already satisfied: pyerfa>=1.7.3 in /usr/local/lib/python3.7/dist-packages (from astropy->healpy) (2.0.0.1)\n",
            "Requirement already satisfied: zipp>=0.5 in /usr/local/lib/python3.7/dist-packages (from importlib-metadata->astropy->healpy) (3.6.0)\n",
            "Requirement already satisfied: typing-extensions>=3.6.4 in /usr/local/lib/python3.7/dist-packages (from importlib-metadata->astropy->healpy) (3.10.0.2)\n",
            "Requirement already satisfied: kiwisolver>=1.0.1 in /usr/local/lib/python3.7/dist-packages (from matplotlib->healpy) (1.3.2)\n",
            "Requirement already satisfied: cycler>=0.10 in /usr/local/lib/python3.7/dist-packages (from matplotlib->healpy) (0.11.0)\n",
            "Requirement already satisfied: python-dateutil>=2.1 in /usr/local/lib/python3.7/dist-packages (from matplotlib->healpy) (2.8.2)\n",
            "Requirement already satisfied: pyparsing!=2.0.4,!=2.1.2,!=2.1.6,>=2.0.1 in /usr/local/lib/python3.7/dist-packages (from matplotlib->healpy) (3.0.6)\n",
            "Requirement already satisfied: six>=1.5 in /usr/local/lib/python3.7/dist-packages (from python-dateutil>=2.1->matplotlib->healpy) (1.15.0)\n"
          ]
        }
      ]
    },
    {
      "cell_type": "code",
      "source": [
        "import urllib.request\n",
        "import numpy as np\n",
        "import healpy as hp\n",
        "import matplotlib.pyplot as plt\n",
        "from mpl_toolkits.axes_grid1 import make_axes_locatable"
      ],
      "metadata": {
        "id": "5tv3wLkgGHSk"
      },
      "execution_count": 37,
      "outputs": []
    },
    {
      "cell_type": "code",
      "source": [
        "url = 'https://data.darts.isas.jaxa.jp/pub/pds3/sln-l-tc-5-sldem2013-v1.0/lon000/data/DTM_MAP_01_N00E000S01E001SC.lbl'\n",
        "norder = 10 #nside1024\n",
        "nside = 2 ** norder\n",
        "#cnt_pix = nside ** 2 * 12\n",
        "print(nside)"
      ],
      "metadata": {
        "id": "F-c4PBGGGKJC",
        "colab": {
          "base_uri": "https://localhost:8080/"
        },
        "outputId": "5966a3b7-27ee-4c70-ad99-1e062eb5b964"
      },
      "execution_count": 38,
      "outputs": [
        {
          "output_type": "stream",
          "name": "stdout",
          "text": [
            "1024\n"
          ]
        }
      ]
    },
    {
      "cell_type": "code",
      "source": [
        "def lbl2dict(lbl_url):\n",
        "  import urllib.request  #URL読み出し用\n",
        "  import re  #正規表現用\n",
        "\n",
        "  dictionary = {}\n",
        "\n",
        "  # urlの読み出し(byte型)\n",
        "  com=urllib.request.urlopen(lbl_url)\n",
        "  byte_data=com.read()\n",
        "  com.close()\n",
        "\n",
        "  # str型に変換\n",
        "  string_data=byte_data.decode(\"utf-8\")\n",
        "\n",
        "  # 改行で分けてlistに代入\n",
        "  a=string_data.split('\\r\\n')\n",
        "\n",
        "  # 数字と小数点、正負の部分を抽出(str型)\n",
        "  _UPPER_LEFT_LATITUDE = re.search(r'-?[\\d\\.]+', a[24])\n",
        "  _UPPER_LEFT_LONGITUDE = re.search(r'-?[\\d\\.]+', a[25])\n",
        "  _UPPER_RIGHT_LATITUDE = re.search(r'-?[\\d\\.]+', a[26])\n",
        "  _UPPER_RIGHT_LONGITUDE = re.search(r'-?[\\d\\.]+', a[27])\n",
        "  _LOWER_LEFT_LATITUDE =  re.search(r'-?[\\d\\.]+', a[28])\n",
        "  _LOWER_LEFT_LONGITUDE = re.search(r'-?[\\d\\.]+', a[29])\n",
        "  _LOWER_RIGHT_LATITUDE =  re.search(r'-?[\\d\\.]+', a[30])\n",
        "  _LOWER_RIGHT_LONGITUDE = re.search(r'-?[\\d\\.]+', a[31])\n",
        "\n",
        "  _LINE= re.search(r'-?[\\d\\.]+', a[75])\n",
        "  _LINESAMPLE = re.search(r'-?[\\d\\.]+', a[76])\n",
        "\n",
        "  # floatで保管\n",
        "  dictionary[\"UPPER_LEFT_LATITUDE\"]=float(_UPPER_LEFT_LATITUDE.group())\n",
        "  dictionary[\"UPPER_LEFT_LONGITUDE\"]=float(_UPPER_LEFT_LONGITUDE.group())\n",
        "  dictionary[\"UPPER_RIGHT_LATITUDE\"]=float(_UPPER_RIGHT_LATITUDE.group())\n",
        "  dictionary[\"UPPER_RIGHT_LONGITUDE\"]=float(_UPPER_RIGHT_LONGITUDE.group())\n",
        "  dictionary[\"LOWER_LEFT_LATITUDE\"]=float(_LOWER_LEFT_LATITUDE.group())\n",
        "  dictionary[\"LOWER_LEFT_LONGITUDE\"]=float(_LOWER_LEFT_LONGITUDE.group())\n",
        "  dictionary[\"LOWER_RIGHT_LATITUDE\"]=float(_LOWER_RIGHT_LATITUDE.group())\n",
        "  dictionary[\"LOWER_RIGHT_LONGITUDE\"]=float(_LOWER_RIGHT_LONGITUDE.group())\n",
        "  dictionary[\"LINE\"]= int(_LINE.group())\n",
        "  dictionary[\"LINESAMPLE\"]= int(_LINESAMPLE.group())\n",
        "\n",
        "  return dictionary"
      ],
      "metadata": {
        "id": "1Sm9sE-1GNEw"
      },
      "execution_count": 39,
      "outputs": []
    },
    {
      "cell_type": "code",
      "source": [
        "def readdics(lbl_url,nside):\n",
        "  #dictionaryから呼び出す\n",
        "  import numpy as np\n",
        "  import healpy as hp\n",
        "\n",
        "  dictionary = lbl2dict(url)\n",
        "\n",
        "  #緯度経度の羅列()\n",
        "  lon2pix=np.linspace(dictionary[\"LOWER_LEFT_LONGITUDE\"],dictionary[\"LOWER_RIGHT_LONGITUDE\"],dictionary[\"LINE\"])\n",
        "  lat2pix=np.linspace(dictionary[\"UPPER_LEFT_LATITUDE\"],dictionary[\"LOWER_LEFT_LATITUDE\"],dictionary[\"LINE\"])\n",
        "  #羅列したものをgrid状にしてる\n",
        "  lon2pix2,lat2pix2=np.meshgrid(lon2pix,lat2pix)\n",
        "  #print(lon2pix2.shape,lat2pix2.shape)\n",
        "  # ang2pixでhealpixの番号に変換\n",
        "\n",
        "  pixnumber=hp.pixelfunc.ang2pix(nside, lon2pix2, lat2pix2, nest=True, lonlat=True)\n",
        "  #print(np.unique(pixnumber).shape) #healpixの分割数 #64bit\n",
        "\n",
        "  return pixnumber"
      ],
      "metadata": {
        "id": "BXcJPWabGQGt"
      },
      "execution_count": 40,
      "outputs": []
    },
    {
      "cell_type": "code",
      "source": [
        "# imgからhealpix numberとそれぞれのdemデータの平均値を返す\n",
        "def img2healpix(url):\n",
        "  import re  #正規表現用\n",
        "  import os\n",
        "  import requests #データダウンロード用\n",
        "  import tensorflow as tf #resampling用\n",
        "\n",
        "  # urlをlbl→imgに変換\n",
        "  url_img = re.sub('lbl','img',url)\n",
        "  filename = os.path.basename(url_img)\n",
        "  img = urllib.request.urlretrieve(url_img, f'{filename}')\n",
        "\n",
        "  #ヘッダファイルの必要な要素を取り出す関数\n",
        "  dictionary = lbl2dict(url)\n",
        "\n",
        "  #リシェイプ\n",
        "  data = np.fromfile(filename,dtype='>i2') #i2 int型変換\n",
        "  data = data.reshape(dictionary[\"LINE\"],dictionary[\"LINESAMPLE\"])\n",
        "  #data_mask = data.copy()\n",
        "\n",
        "  #dataとpixnumberを対応させると高度の値が取れる\n",
        "\n",
        "  #fig = plt.figure(figsize=(15,15))\n",
        "  #ax = plt.gca()\n",
        "\n",
        "  pixnum = readdics(url,nside)\n",
        "  pixnum_unique= np.unique(readdics(url,nside))\n",
        "\n",
        "  #リサンプリング\n",
        "  healpix_dem=tf.sparse.bincount(np.ravel(pixnum), weights=np.ravel(data.astype(float)))\n",
        "  healpix_cnt=tf.sparse.bincount(np.ravel(pixnum))\n",
        "  healpix_cnt=tf.cast(healpix_cnt, tf.float64)\n",
        "  ave = tf.cast(healpix_dem.values, dtype=tf.float64) / tf.cast(healpix_cnt.values, dtype=tf.float64)\n",
        "\n",
        "  return pixnum_unique,ave\n"
      ],
      "metadata": {
        "id": "1NZ29Jm9GW-Z"
      },
      "execution_count": 41,
      "outputs": []
    },
    {
      "cell_type": "code",
      "source": [
        "np.bincount(np.array([0, 1, 1, 3, 2, 1, 7,100]))\n",
        "\n",
        "\n",
        "# 配列の長さがhealpixに含まれる画素数の最大値に依存する"
      ],
      "metadata": {
        "colab": {
          "base_uri": "https://localhost:8080/"
        },
        "id": "pBS652FAeyVL",
        "outputId": "e727bd13-798b-4831-8b2a-82d44062cece"
      },
      "execution_count": 42,
      "outputs": [
        {
          "output_type": "execute_result",
          "data": {
            "text/plain": [
              "array([1, 3, 1, 1, 0, 0, 0, 1, 0, 0, 0, 0, 0, 0, 0, 0, 0, 0, 0, 0, 0, 0,\n",
              "       0, 0, 0, 0, 0, 0, 0, 0, 0, 0, 0, 0, 0, 0, 0, 0, 0, 0, 0, 0, 0, 0,\n",
              "       0, 0, 0, 0, 0, 0, 0, 0, 0, 0, 0, 0, 0, 0, 0, 0, 0, 0, 0, 0, 0, 0,\n",
              "       0, 0, 0, 0, 0, 0, 0, 0, 0, 0, 0, 0, 0, 0, 0, 0, 0, 0, 0, 0, 0, 0,\n",
              "       0, 0, 0, 0, 0, 0, 0, 0, 0, 0, 0, 0, 1])"
            ]
          },
          "metadata": {},
          "execution_count": 42
        }
      ]
    },
    {
      "cell_type": "code",
      "source": [
        "# 中平さんコード\n",
        "\n",
        "import tensorflow as tf\n",
        "\n",
        "pixnum = readdics(url, nside)\n",
        "#pixnum_unique= np.unique( pixnum )\n",
        "\n",
        "s=tf.sparse.bincount(np.ravel(pixnum), weights=np.ravel(data.astype(float)))\n",
        "W=tf.sparse.bincount(np.ravel(pixnum))\n",
        "w=tf.cast(W, tf.float64)\n",
        "print(w.dtype)\n",
        "print(s.dtype)\n",
        "ans = s.values/w.values\n",
        "print(ans)\n",
        "\n",
        "#pixnumに値がある場合のみ計算する\n",
        "#値が計算されたpix番号を取得する必要がある\n",
        "\n",
        "\n",
        "#s=np.bincount(np.ravel(pixnum), weights=np.ravel(data.astype(float)), minlength=hp.nside2npix(nside) )\n",
        "#w=np.bincount(np.ravel(pixnum), minlength=hp.nside2npix(nside)) #nsideに対応してpix数を数えて"
      ],
      "metadata": {
        "colab": {
          "base_uri": "https://localhost:8080/"
        },
        "id": "OOlYV2O7fbDx",
        "outputId": "ec2ef6b8-3d70-498d-b141-6f9c39b50832"
      },
      "execution_count": 43,
      "outputs": [
        {
          "output_type": "stream",
          "name": "stdout",
          "text": [
            "<dtype: 'float64'>\n",
            "<dtype: 'float64'>\n",
            "tf.Tensor(\n",
            "[-620.86473375 -598.50503625 -631.89556944 -663.95805889 -658.89737094\n",
            " -655.74672869 -664.54844868 -665.11298151 -601.52181501 -579.51511569\n",
            " -553.64983392 -575.29085888 -553.78744857 -566.02230585 -613.9753983\n",
            " -615.74815584 -597.58913148 -585.41032213 -596.16203192 -612.87200051\n",
            " -600.36083036 -614.95584016 -571.71760471 -582.79228168 -579.39509562\n",
            " -599.93052172 -603.09372841 -612.01087075 -597.30923468 -606.58774768\n",
            " -598.77475652 -602.5081551  -617.60395893 -615.86582196 -557.83602385\n",
            " -566.10225042 -581.71173038 -554.01577895 -643.64073152 -635.36305466\n",
            " -655.90729127 -637.73072169 -608.48285766 -574.18500273 -617.80661698\n",
            " -609.6902745  -588.6332485  -601.80469006 -607.30369024 -605.59790947\n",
            " -599.02201418 -611.71885396 -592.3015798  -607.67163555 -590.70212689\n",
            " -609.73308852 -600.46850401 -608.60879129 -606.10531004 -613.97207577\n",
            " -615.84785296 -598.44642597 -734.02651579 -693.44873085 -736.48767469\n",
            " -737.38937701 -693.76344086 -680.82966972 -709.10749898 -684.75611264\n",
            " -672.76285699 -671.20310483 -683.25707586 -675.67860389 -717.91846789\n",
            " -678.92468779 -730.03206631 -678.71966915 -686.71072532 -683.9315579\n",
            " -694.81003454 -696.26800582 -725.29579145 -719.60801672 -719.35179695\n",
            " -697.10047264 -685.04235825 -714.87199811 -710.04531986 -713.92685396\n",
            " -718.49734574 -719.20031095 -661.79649155 -645.31572441 -663.12923105\n",
            " -664.20679876 -622.76460644 -638.93889869 -654.67711382 -656.99898198\n",
            " -671.99681876 -691.20415583 -696.57043649 -698.26910142 -696.07507862\n",
            " -700.24759117 -713.80923899 -705.40315954 -607.56054464 -615.87663164\n",
            " -642.24779115 -606.33956879 -627.36760108 -618.48256681 -622.20863479\n",
            " -618.08359544 -686.4225749  -643.34477368 -710.45395383 -703.38048834\n",
            " -622.80917405 -608.35539113 -664.77561038 -606.64183907 -703.14334018\n",
            " -702.55866633 -693.05857543 -685.72943935 -722.61954625 -710.04682785\n",
            " -705.42405017 -709.28632984 -711.18275524 -712.51701509 -717.71392474\n",
            " -714.60651237 -712.07719579 -710.50204519 -712.79844383 -710.63218558\n",
            " -707.75432249 -710.16503354 -710.41143854 -690.7685707  -685.2602807\n",
            " -657.34756208 -682.1956332  -671.29405883 -709.5732102  -692.29816747\n",
            " -708.6146784  -708.23413809 -687.90531942 -681.90324164 -691.72561497\n",
            " -683.06152392 -721.34483257 -720.32137728 -720.68325137 -716.74824565\n",
            " -716.30533033 -717.50101807 -720.48561975 -714.92370553 -705.62340236\n",
            " -722.97974976 -718.13133113 -712.47010163 -719.93136738 -716.49399124\n",
            " -697.86157119 -689.12465913 -708.17774425 -705.07364651 -723.01730815\n",
            " -719.47454823 -722.14274806 -717.1606552  -720.03252372 -717.88126318\n",
            " -718.45005818 -723.31743723 -716.10243708 -715.46871137 -713.95309901\n",
            " -715.56722361 -719.24046905 -717.44695937 -718.16040068 -717.24587793\n",
            " -715.61686423 -716.37573676 -612.92718758 -616.33226448 -619.63387873\n",
            " -613.29843474 -616.26620162 -622.57965993 -611.37897435 -613.74571865\n",
            " -604.83518162 -607.04881108 -614.73174436 -616.054276   -609.30788947\n",
            " -606.50834521 -614.84129581 -612.51717869 -607.67087802 -618.34556297\n",
            " -617.51895351 -608.10769538 -620.34999182 -622.03635967 -613.16991786\n",
            " -626.7437037  -655.16398281 -626.66854525 -662.65100143 -691.16511583\n",
            " -613.21040671 -601.95336957 -598.94377079 -583.65985529 -615.57139221\n",
            " -632.58666327 -593.80403956 -625.79560412 -588.5749191  -605.52819692\n",
            " -589.17036323 -622.19306985 -607.92971676 -632.77497591 -620.51231751\n",
            " -634.14839191 -646.22730248 -664.56171482 -654.00401796 -664.48566442\n",
            " -682.42622459 -677.45197305 -683.13991201 -682.15705579 -644.37763395\n",
            " -657.54526779 -671.79011381 -691.15889176 -675.68059848 -678.7111301\n",
            " -671.32472184 -674.14628293 -632.03694142 -628.93782157 -665.82660946\n",
            " -653.51873534 -631.51349926 -648.21074065 -652.91946333 -666.3786496\n",
            " -676.64169227 -669.315002   -681.14192997 -681.19499691 -659.63605788\n",
            " -673.33852083 -677.4164788  -683.46170209 -647.91288223 -657.93635008\n",
            " -669.79379681 -643.09515845 -648.81179208 -640.27290246 -613.73031543\n",
            " -641.71466749 -677.77159428 -648.53691483 -682.84457777 -663.58620878\n",
            " -637.5572483  -665.06314086 -633.26923496 -671.29400964 -683.41561858\n",
            " -678.33518369 -672.03804941 -643.22472502 -668.29727702 -699.94738868\n",
            " -646.91919063 -691.03986983 -670.09324776 -700.13402418 -717.1901806\n",
            " -728.45547074 -721.65274566 -694.12047996 -709.19617052 -695.07319364\n",
            " -689.64492964 -683.07064941 -693.9773471  -688.30411068 -680.2609494\n",
            " -685.95458595 -687.78778293 -686.78680508 -706.50746323 -697.78334697\n",
            " -718.4244705  -707.71410392 -697.37032324 -698.07728529 -699.79085157\n",
            " -693.28584674 -687.34718031 -678.02977965 -692.05877754 -687.58654668\n",
            " -637.25355877 -675.82518064 -643.79573699 -690.36185801 -691.68074422\n",
            " -683.33034682 -724.91882704 -722.47845611 -721.05346884 -731.74242342\n",
            " -711.60049086 -693.94981936 -726.45848988 -716.28515589 -724.1054552\n",
            " -715.95783807 -717.        ], shape=(337,), dtype=float64)\n"
          ]
        }
      ]
    },
    {
      "cell_type": "code",
      "source": [
        "# tensorflow 勉強コード\n",
        "import tensorflow as tf\n",
        "\n",
        "pixnum = np.array([1, 1, 1, 1,1,2, 2, 2,2,2])\n",
        "dem = np.array([6, 5, 6, 6, 6, 7,7,7,6,7])\n",
        "\n",
        "s=tf.sparse.bincount(np.ravel(pixnum), weights=np.ravel(dem.astype(float)))\n",
        "W=tf.sparse.bincount(np.ravel(pixnum))\n",
        "W=tf.cast(W, tf.float64)\n",
        "ans = s.values/W.values\n",
        "print(s.values)\n",
        "print(W.values)\n",
        "print(ans)"
      ],
      "metadata": {
        "colab": {
          "base_uri": "https://localhost:8080/"
        },
        "id": "fZfUf2aSxNBv",
        "outputId": "5d9949b6-b45f-45f4-e354-1bca031e56a3"
      },
      "execution_count": 44,
      "outputs": [
        {
          "output_type": "stream",
          "name": "stdout",
          "text": [
            "tf.Tensor([29. 34.], shape=(2,), dtype=float64)\n",
            "tf.Tensor([5. 5.], shape=(2,), dtype=float64)\n",
            "tf.Tensor([5.8 6.8], shape=(2,), dtype=float64)\n"
          ]
        }
      ]
    },
    {
      "cell_type": "code",
      "source": [
        "import numpy as np\n",
        "from astropy.io import fits\n",
        "\n",
        "\n",
        "healpix = img2healpix(url)\n",
        "\n",
        "hdu = fits.PrimaryHDU(healpix[1])\n",
        "hdulist = fits.HDUList()\n",
        "\n",
        "hdulist[0] = healpix[0]\n",
        "hdulist[1] = healpix[1]\n",
        "\n",
        "\n",
        "hdu.writeto('make_fits_test.fits',overwrite=True)"
      ],
      "metadata": {
        "id": "v_OplrHSZO-d"
      },
      "execution_count": 48,
      "outputs": []
    },
    {
      "cell_type": "code",
      "source": [
        "import astropy.io.fits as pyfits\n",
        "\n",
        "import healpy as hp\n",
        "\n",
        "import numpy as np\n",
        "\n",
        " \n",
        "\n",
        "nside=4096*4\n",
        "\n",
        " \n",
        "EXTNAME = 'SKYMAP  '   \n",
        "\n",
        "INDXSCHM= 'EXPLICIT'                                                           \n",
        "\n",
        " \n",
        "\n",
        "PIX=np.arange(196608,196608*2,1)\n",
        "\n",
        "HEIGHT= np.random.uniform(0,10, len(PIX))\n",
        "\n",
        " \n",
        "\n",
        "cols = pyfits.ColDefs([\n",
        "\n",
        "  pyfits.Column(name='PIX', format='I',array=PIX),\n",
        "\n",
        "  pyfits.Column(name='HEIGHT', format='D',array=HEIGHT) ])\n",
        "\n",
        " \n",
        "\n",
        "a=pyfits.BinTableHDU.from_columns(cols)\n",
        "\n",
        "a.header[\"NSIDE\"]=nside\n",
        "\n",
        "a.header[\"ORDERING\"]=\"NESTED\"\n",
        "\n",
        "a.header[\"INDXSCHM\"]=\"EXPLICIT\"\n",
        "\n",
        "a.header[\"PIXTYPE\"]=\"HEALPIX\"\n",
        "\n",
        "a.header[\"FIRSTPIX\"]=int(196608/2)\n",
        "\n",
        "a.header[\"LASTPIX\"]=int(196608/2)+196608\n",
        "\n",
        " \n",
        "\n",
        "a.writeto(\"test.fits\", overwrite=True)\n",
        "\n",
        "\n",
        "# Hips変換\n",
        "#java -Xmx64g -jar AladinBeta.jar -hipsgen in=test.fits out=PilotHiPS creator_did=HiPS hips_order=9"
      ],
      "metadata": {
        "id": "gvNCxpVHpVPQ"
      },
      "execution_count": null,
      "outputs": []
    },
    {
      "cell_type": "code",
      "source": [
        "no = 9\n",
        "ns = 2 ** 9\n",
        "a= ns**2*12\n",
        "print(a)"
      ],
      "metadata": {
        "colab": {
          "base_uri": "https://localhost:8080/"
        },
        "id": "RpgBjmdot-Ah",
        "outputId": "136238d7-a1c2-4b3e-c6ad-23a24d6400ae"
      },
      "execution_count": 53,
      "outputs": [
        {
          "output_type": "stream",
          "name": "stdout",
          "text": [
            "3145728\n"
          ]
        }
      ]
    },
    {
      "cell_type": "code",
      "source": [
        "    import astropy.io.fits as fits\n",
        "    import matplotlib.pyplot as plt\n",
        "    hdulist=pyfits.open(fits_url)\n",
        "    hdu=hdulist[0]\n",
        "    data=hdu.data #data=fits.getdata('file.fits',0)でもできる。\n",
        "    header=hdu.header\n",
        "    plt.imshow(data)\n",
        "    plt.show()"
      ],
      "metadata": {
        "id": "YVXS7wR12PGE"
      },
      "execution_count": null,
      "outputs": []
    }
  ]
}